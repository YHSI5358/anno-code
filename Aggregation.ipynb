{
 "cells": [
  {
   "cell_type": "code",
   "execution_count": 1,
   "metadata": {},
   "outputs": [],
   "source": [
    "import pandas as pd\n",
    "import numpy as np\n",
    "import re\n",
    "from tqdm import tqdm\n",
    "import os\n",
    "\n",
    "from utils.data_process import *\n",
    "from utils.eval import *\n",
    "from utils.aggregate import *\n",
    "os.environ['OMP_NUM_THREADS'] = '1'"
   ]
  },
  {
   "cell_type": "code",
   "execution_count": 2,
   "metadata": {},
   "outputs": [
    {
     "data": {
      "text/html": [
       "<div>\n",
       "<style scoped>\n",
       "    .dataframe tbody tr th:only-of-type {\n",
       "        vertical-align: middle;\n",
       "    }\n",
       "\n",
       "    .dataframe tbody tr th {\n",
       "        vertical-align: top;\n",
       "    }\n",
       "\n",
       "    .dataframe thead th {\n",
       "        text-align: right;\n",
       "    }\n",
       "</style>\n",
       "<table border=\"1\" class=\"dataframe\">\n",
       "  <thead>\n",
       "    <tr style=\"text-align: right;\">\n",
       "      <th></th>\n",
       "      <th>worker_bbox</th>\n",
       "      <th>author</th>\n",
       "      <th>author_id</th>\n",
       "      <th>img_name</th>\n",
       "      <th>weight</th>\n",
       "      <th>cluster</th>\n",
       "      <th>category</th>\n",
       "      <th>sam_conf</th>\n",
       "      <th>sam_bbox</th>\n",
       "      <th>worker_area</th>\n",
       "      <th>sam_area</th>\n",
       "    </tr>\n",
       "  </thead>\n",
       "  <tbody>\n",
       "    <tr>\n",
       "      <th>0</th>\n",
       "      <td>[6.0, 1272.0, 407.0, 1777.0]</td>\n",
       "      <td>梁春霞</td>\n",
       "      <td>7</td>\n",
       "      <td>%5B39450_53003%5D%5B39519_53078%5D%5B2%5D%5B0....</td>\n",
       "      <td>0.820932</td>\n",
       "      <td>NaN</td>\n",
       "      <td>其他正常细胞</td>\n",
       "      <td>0.979302</td>\n",
       "      <td>[0.0, 1320.0, 424.0, 1759.0]</td>\n",
       "      <td>202505.0</td>\n",
       "      <td>186136.0</td>\n",
       "    </tr>\n",
       "    <tr>\n",
       "      <th>1</th>\n",
       "      <td>[1393.0, 596.0, 2187.0, 1236.0]</td>\n",
       "      <td>赵辉</td>\n",
       "      <td>4</td>\n",
       "      <td>%5B39450_53003%5D%5B39519_53078%5D%5B2%5D%5B0....</td>\n",
       "      <td>0.532935</td>\n",
       "      <td>NaN</td>\n",
       "      <td>其他正常细胞</td>\n",
       "      <td>0.888255</td>\n",
       "      <td>[1317.0, 650.0, 2038.0, 1119.0]</td>\n",
       "      <td>508160.0</td>\n",
       "      <td>338149.0</td>\n",
       "    </tr>\n",
       "    <tr>\n",
       "      <th>2</th>\n",
       "      <td>[15.0, 1277.0, 489.0, 1844.0]</td>\n",
       "      <td>禾荣华</td>\n",
       "      <td>3</td>\n",
       "      <td>%5B39450_53003%5D%5B39519_53078%5D%5B2%5D%5B0....</td>\n",
       "      <td>0.645175</td>\n",
       "      <td>NaN</td>\n",
       "      <td>其他正常细胞</td>\n",
       "      <td>0.952214</td>\n",
       "      <td>[0.0, 1320.0, 424.0, 1759.0]</td>\n",
       "      <td>268758.0</td>\n",
       "      <td>186136.0</td>\n",
       "    </tr>\n",
       "    <tr>\n",
       "      <th>3</th>\n",
       "      <td>[987.0, 424.0, 1263.0, 661.0]</td>\n",
       "      <td>禾荣华</td>\n",
       "      <td>3</td>\n",
       "      <td>%5B39450_53003%5D%5B39519_53078%5D%5B2%5D%5B0....</td>\n",
       "      <td>0.411228</td>\n",
       "      <td>NaN</td>\n",
       "      <td>其他正常细胞</td>\n",
       "      <td>0.877491</td>\n",
       "      <td>[1040.0, 475.0, 1224.0, 706.0]</td>\n",
       "      <td>65412.0</td>\n",
       "      <td>42504.0</td>\n",
       "    </tr>\n",
       "    <tr>\n",
       "      <th>4</th>\n",
       "      <td>[0.0, 1248.0, 413.0, 1842.0]</td>\n",
       "      <td>贺代碧</td>\n",
       "      <td>5</td>\n",
       "      <td>%5B39450_53003%5D%5B39519_53078%5D%5B2%5D%5B0....</td>\n",
       "      <td>0.718020</td>\n",
       "      <td>NaN</td>\n",
       "      <td>其他正常细胞</td>\n",
       "      <td>0.977822</td>\n",
       "      <td>[0.0, 1320.0, 424.0, 1759.0]</td>\n",
       "      <td>245322.0</td>\n",
       "      <td>186136.0</td>\n",
       "    </tr>\n",
       "    <tr>\n",
       "      <th>...</th>\n",
       "      <td>...</td>\n",
       "      <td>...</td>\n",
       "      <td>...</td>\n",
       "      <td>...</td>\n",
       "      <td>...</td>\n",
       "      <td>...</td>\n",
       "      <td>...</td>\n",
       "      <td>...</td>\n",
       "      <td>...</td>\n",
       "      <td>...</td>\n",
       "      <td>...</td>\n",
       "    </tr>\n",
       "    <tr>\n",
       "      <th>14574</th>\n",
       "      <td>[182.0, 1228.0, 486.0, 1605.0]</td>\n",
       "      <td>赵辉</td>\n",
       "      <td>4</td>\n",
       "      <td>%5B28764_20425%5D%5B28937_20632%5D%5B2%5D%5B0....</td>\n",
       "      <td>0.580064</td>\n",
       "      <td>NaN</td>\n",
       "      <td>其他正常细胞</td>\n",
       "      <td>0.944339</td>\n",
       "      <td>[195.0, 1236.0, 435.0, 1513.0]</td>\n",
       "      <td>114608.0</td>\n",
       "      <td>66480.0</td>\n",
       "    </tr>\n",
       "    <tr>\n",
       "      <th>14575</th>\n",
       "      <td>[1167.0, 1212.0, 1617.0, 1556.0]</td>\n",
       "      <td>赵辉</td>\n",
       "      <td>4</td>\n",
       "      <td>%5B28764_20425%5D%5B28937_20632%5D%5B2%5D%5B0....</td>\n",
       "      <td>0.520640</td>\n",
       "      <td>NaN</td>\n",
       "      <td>其他正常细胞</td>\n",
       "      <td>0.958145</td>\n",
       "      <td>[1201.0, 1271.0, 1606.0, 1470.0]</td>\n",
       "      <td>154800.0</td>\n",
       "      <td>80595.0</td>\n",
       "    </tr>\n",
       "    <tr>\n",
       "      <th>14576</th>\n",
       "      <td>[1722.0, 782.0, 2176.0, 1414.0]</td>\n",
       "      <td>赵辉</td>\n",
       "      <td>4</td>\n",
       "      <td>%5B28764_20425%5D%5B28937_20632%5D%5B2%5D%5B0....</td>\n",
       "      <td>0.626985</td>\n",
       "      <td>NaN</td>\n",
       "      <td>化生细胞</td>\n",
       "      <td>0.820144</td>\n",
       "      <td>[1697.0, 854.0, 2221.0, 1320.0]</td>\n",
       "      <td>286928.0</td>\n",
       "      <td>244184.0</td>\n",
       "    </tr>\n",
       "    <tr>\n",
       "      <th>14577</th>\n",
       "      <td>[3540.0, 1560.0, 3807.0, 1892.0]</td>\n",
       "      <td>赵辉</td>\n",
       "      <td>4</td>\n",
       "      <td>%5B28764_20425%5D%5B28937_20632%5D%5B2%5D%5B0....</td>\n",
       "      <td>0.478481</td>\n",
       "      <td>NaN</td>\n",
       "      <td>化生细胞</td>\n",
       "      <td>0.840806</td>\n",
       "      <td>[3617.0, 1531.0, 3839.0, 1950.0]</td>\n",
       "      <td>88644.0</td>\n",
       "      <td>93018.0</td>\n",
       "    </tr>\n",
       "    <tr>\n",
       "      <th>14578</th>\n",
       "      <td>[2195.0, 952.0, 2454.0, 1126.0]</td>\n",
       "      <td>赵辉</td>\n",
       "      <td>4</td>\n",
       "      <td>%5B28764_20425%5D%5B28937_20632%5D%5B2%5D%5B0....</td>\n",
       "      <td>0.447015</td>\n",
       "      <td>NaN</td>\n",
       "      <td>其他正常细胞</td>\n",
       "      <td>0.920750</td>\n",
       "      <td>[2230.0, 932.0, 2395.0, 1094.0]</td>\n",
       "      <td>45066.0</td>\n",
       "      <td>26730.0</td>\n",
       "    </tr>\n",
       "  </tbody>\n",
       "</table>\n",
       "<p>14567 rows × 11 columns</p>\n",
       "</div>"
      ],
      "text/plain": [
       "                            worker_bbox author  author_id  \\\n",
       "0          [6.0, 1272.0, 407.0, 1777.0]    梁春霞          7   \n",
       "1       [1393.0, 596.0, 2187.0, 1236.0]     赵辉          4   \n",
       "2         [15.0, 1277.0, 489.0, 1844.0]    禾荣华          3   \n",
       "3         [987.0, 424.0, 1263.0, 661.0]    禾荣华          3   \n",
       "4          [0.0, 1248.0, 413.0, 1842.0]    贺代碧          5   \n",
       "...                                 ...    ...        ...   \n",
       "14574    [182.0, 1228.0, 486.0, 1605.0]     赵辉          4   \n",
       "14575  [1167.0, 1212.0, 1617.0, 1556.0]     赵辉          4   \n",
       "14576   [1722.0, 782.0, 2176.0, 1414.0]     赵辉          4   \n",
       "14577  [3540.0, 1560.0, 3807.0, 1892.0]     赵辉          4   \n",
       "14578   [2195.0, 952.0, 2454.0, 1126.0]     赵辉          4   \n",
       "\n",
       "                                                img_name    weight  cluster  \\\n",
       "0      %5B39450_53003%5D%5B39519_53078%5D%5B2%5D%5B0....  0.820932      NaN   \n",
       "1      %5B39450_53003%5D%5B39519_53078%5D%5B2%5D%5B0....  0.532935      NaN   \n",
       "2      %5B39450_53003%5D%5B39519_53078%5D%5B2%5D%5B0....  0.645175      NaN   \n",
       "3      %5B39450_53003%5D%5B39519_53078%5D%5B2%5D%5B0....  0.411228      NaN   \n",
       "4      %5B39450_53003%5D%5B39519_53078%5D%5B2%5D%5B0....  0.718020      NaN   \n",
       "...                                                  ...       ...      ...   \n",
       "14574  %5B28764_20425%5D%5B28937_20632%5D%5B2%5D%5B0....  0.580064      NaN   \n",
       "14575  %5B28764_20425%5D%5B28937_20632%5D%5B2%5D%5B0....  0.520640      NaN   \n",
       "14576  %5B28764_20425%5D%5B28937_20632%5D%5B2%5D%5B0....  0.626985      NaN   \n",
       "14577  %5B28764_20425%5D%5B28937_20632%5D%5B2%5D%5B0....  0.478481      NaN   \n",
       "14578  %5B28764_20425%5D%5B28937_20632%5D%5B2%5D%5B0....  0.447015      NaN   \n",
       "\n",
       "      category  sam_conf                          sam_bbox  worker_area  \\\n",
       "0       其他正常细胞  0.979302      [0.0, 1320.0, 424.0, 1759.0]     202505.0   \n",
       "1       其他正常细胞  0.888255   [1317.0, 650.0, 2038.0, 1119.0]     508160.0   \n",
       "2       其他正常细胞  0.952214      [0.0, 1320.0, 424.0, 1759.0]     268758.0   \n",
       "3       其他正常细胞  0.877491    [1040.0, 475.0, 1224.0, 706.0]      65412.0   \n",
       "4       其他正常细胞  0.977822      [0.0, 1320.0, 424.0, 1759.0]     245322.0   \n",
       "...        ...       ...                               ...          ...   \n",
       "14574   其他正常细胞  0.944339    [195.0, 1236.0, 435.0, 1513.0]     114608.0   \n",
       "14575   其他正常细胞  0.958145  [1201.0, 1271.0, 1606.0, 1470.0]     154800.0   \n",
       "14576     化生细胞  0.820144   [1697.0, 854.0, 2221.0, 1320.0]     286928.0   \n",
       "14577     化生细胞  0.840806  [3617.0, 1531.0, 3839.0, 1950.0]      88644.0   \n",
       "14578   其他正常细胞  0.920750   [2230.0, 932.0, 2395.0, 1094.0]      45066.0   \n",
       "\n",
       "       sam_area  \n",
       "0      186136.0  \n",
       "1      338149.0  \n",
       "2      186136.0  \n",
       "3       42504.0  \n",
       "4      186136.0  \n",
       "...         ...  \n",
       "14574   66480.0  \n",
       "14575   80595.0  \n",
       "14576  244184.0  \n",
       "14577   93018.0  \n",
       "14578   26730.0  \n",
       "\n",
       "[14567 rows x 11 columns]"
      ]
     },
     "execution_count": 2,
     "metadata": {},
     "output_type": "execute_result"
    }
   ],
   "source": [
    "df_gt = pd.read_csv('./datasets/Medical/GroundTruth.csv')\n",
    "df_worker = pd.read_csv('./datasets/Medical/WorkerData.csv')\n",
    "df_gt['bbox'] = df_gt['bbox'].apply(lambda x: [int(i) for i in re.findall(r'\\d+', x)])\n",
    "\n",
    "df_worker['worker_bbox'] = df_worker['worker_bbox'].apply(convert_to_list)\n",
    "df_worker['sam_bbox'] = df_worker['sam_bbox'].apply(convert_to_list)\n",
    "\n",
    "\n",
    "df_worker['worker_area'] = df_worker['worker_bbox'].apply(lambda x: (x[2]-x[0])*(x[3]-x[1]))\n",
    "df_worker['sam_area'] = df_worker['sam_bbox'].apply(lambda x: (x[2]-x[0])*(x[3]-x[1]))\n",
    "df_worker[(df_worker['sam_area'] < 400) & (df_worker['sam_conf'] < 0.7)]\n",
    "df_worker = df_worker[(df_worker['sam_area'] >= 2924) | (df_worker['sam_conf'] >= 0.7)]\n",
    "fill_weight_df(df_worker)\n"
   ]
  },
  {
   "cell_type": "code",
   "execution_count": 3,
   "metadata": {},
   "outputs": [],
   "source": [
    "\n",
    "threshold = 0.20\n",
    "\n",
    "img2df = {}\n",
    "total_df_removed = pd.DataFrame(columns=['worker_bbox', 'author', 'author_id', 'img_name', 'weight', 'cluster', 'category', 'sam_conf', 'sam_bbox', 'worker_area', 'sam_area', 'remove'])\n",
    "\n",
    "author2giou = get_author2giou(df_worker)\n",
    "author2quality = {author: np.mean(gious) for author, gious in author2giou.items()}\n"
   ]
  },
  {
   "cell_type": "code",
   "execution_count": 4,
   "metadata": {},
   "outputs": [
    {
     "name": "stderr",
     "output_type": "stream",
     "text": [
      "  0%|          | 0/446 [00:00<?, ?it/s]"
     ]
    },
    {
     "name": "stdout",
     "output_type": "stream",
     "text": [
      "is here0?\n",
      "is here1?\n",
      "is here2?\n",
      "is here0?\n",
      "is here1?\n"
     ]
    },
    {
     "name": "stderr",
     "output_type": "stream",
     "text": [
      "  1%|          | 3/446 [00:00<01:09,  6.42it/s]"
     ]
    },
    {
     "name": "stdout",
     "output_type": "stream",
     "text": [
      "is here2?\n",
      "is here0?\n",
      "is here1?\n",
      "is here2?\n",
      "is here0?\n",
      "is here1?\n",
      "is here2?\n",
      "is here0?\n",
      "is here1?\n",
      "is here2?\n",
      "is here0?\n"
     ]
    },
    {
     "name": "stderr",
     "output_type": "stream",
     "text": [
      "  2%|▏         | 8/446 [00:01<00:49,  8.87it/s]"
     ]
    },
    {
     "name": "stdout",
     "output_type": "stream",
     "text": [
      "is here1?\n",
      "is here2?\n",
      "is here0?\n",
      "is here1?\n",
      "is here2?\n",
      "is here0?\n",
      "is here1?\n",
      "is here2?\n",
      "is here0?\n",
      "is here1?\n",
      "is here2?\n",
      "is here0?\n",
      "is here1?\n",
      "is here2?\n",
      "is here0?\n",
      "is here1?\n"
     ]
    },
    {
     "name": "stderr",
     "output_type": "stream",
     "text": [
      "  3%|▎         | 13/446 [00:01<00:42, 10.29it/s]"
     ]
    },
    {
     "name": "stdout",
     "output_type": "stream",
     "text": [
      "is here2?\n",
      "is here0?\n",
      "is here1?\n",
      "is here2?\n",
      "is here0?\n",
      "is here1?\n",
      "is here2?\n",
      "is here0?\n",
      "is here1?\n",
      "is here2?\n"
     ]
    },
    {
     "name": "stderr",
     "output_type": "stream",
     "text": [
      "  3%|▎         | 15/446 [00:01<00:38, 11.22it/s]"
     ]
    },
    {
     "name": "stdout",
     "output_type": "stream",
     "text": [
      "is here0?\n",
      "is here1?\n",
      "is here2?\n",
      "is here0?\n",
      "is here1?\n",
      "is here2?\n",
      "is here0?\n",
      "is here1?\n",
      "is here2?\n",
      "is here0?\n",
      "is here1?\n"
     ]
    },
    {
     "name": "stderr",
     "output_type": "stream",
     "text": [
      "  4%|▍         | 18/446 [00:01<00:33, 12.72it/s]"
     ]
    },
    {
     "name": "stdout",
     "output_type": "stream",
     "text": [
      "is here2?\n",
      "is here0?\n",
      "is here1?\n",
      "is here2?\n",
      "is here0?\n"
     ]
    },
    {
     "name": "stderr",
     "output_type": "stream",
     "text": [
      "  5%|▌         | 23/446 [00:02<00:31, 13.60it/s]"
     ]
    },
    {
     "name": "stdout",
     "output_type": "stream",
     "text": [
      "is here1?\n",
      "is here2?\n",
      "is here0?\n",
      "is here1?\n",
      "is here2?\n",
      "is here0?\n",
      "is here1?\n",
      "is here2?\n",
      "is here0?\n",
      "is here1?\n",
      "is here2?\n",
      "is here0?\n",
      "is here1?\n"
     ]
    },
    {
     "name": "stderr",
     "output_type": "stream",
     "text": [
      "  6%|▋         | 28/446 [00:02<00:27, 15.13it/s]"
     ]
    },
    {
     "name": "stdout",
     "output_type": "stream",
     "text": [
      "is here2?\n",
      "is here0?\n",
      "is here1?\n",
      "is here2?\n",
      "is here0?\n",
      "is here1?\n",
      "is here2?\n",
      "is here0?\n",
      "is here1?\n",
      "is here2?\n",
      "is here0?\n",
      "is here1?\n",
      "is here2?\n"
     ]
    },
    {
     "name": "stderr",
     "output_type": "stream",
     "text": [
      "  7%|▋         | 30/446 [00:02<00:30, 13.82it/s]"
     ]
    },
    {
     "name": "stdout",
     "output_type": "stream",
     "text": [
      "is here0?\n",
      "is here1?\n",
      "is here2?\n",
      "is here0?\n",
      "is here1?\n",
      "is here2?\n",
      "is here0?\n",
      "is here1?\n",
      "is here2?\n"
     ]
    },
    {
     "name": "stderr",
     "output_type": "stream",
     "text": [
      "  7%|▋         | 33/446 [00:02<00:26, 15.39it/s]"
     ]
    },
    {
     "name": "stdout",
     "output_type": "stream",
     "text": [
      "is here0?\n",
      "is here1?\n",
      "is here2?\n",
      "is here0?\n",
      "is here1?\n",
      "is here2?\n",
      "is here0?\n",
      "is here1?\n",
      "is here2?\n"
     ]
    },
    {
     "name": "stderr",
     "output_type": "stream",
     "text": [
      "  8%|▊         | 36/446 [00:03<00:35, 11.50it/s]"
     ]
    },
    {
     "name": "stdout",
     "output_type": "stream",
     "text": [
      "is here0?\n",
      "is here1?\n",
      "is here2?\n",
      "is here0?\n",
      "is here1?\n",
      "is here2?\n",
      "is here0?\n"
     ]
    },
    {
     "name": "stderr",
     "output_type": "stream",
     "text": [
      "\n"
     ]
    },
    {
     "ename": "KeyboardInterrupt",
     "evalue": "",
     "output_type": "error",
     "traceback": [
      "\u001b[1;31m---------------------------------------------------------------------------\u001b[0m",
      "\u001b[1;31mKeyboardInterrupt\u001b[0m                         Traceback (most recent call last)",
      "Cell \u001b[1;32mIn[4], line 5\u001b[0m\n\u001b[0;32m      3\u001b[0m temp_df \u001b[38;5;241m=\u001b[39m df_worker[df_worker[\u001b[38;5;124m'\u001b[39m\u001b[38;5;124mimg_name\u001b[39m\u001b[38;5;124m'\u001b[39m] \u001b[38;5;241m==\u001b[39m img_name]\n\u001b[0;32m      4\u001b[0m temp_df\u001b[38;5;241m.\u001b[39mreset_index(drop\u001b[38;5;241m=\u001b[39m\u001b[38;5;28;01mTrue\u001b[39;00m, inplace\u001b[38;5;241m=\u001b[39m\u001b[38;5;28;01mTrue\u001b[39;00m)\n\u001b[1;32m----> 5\u001b[0m temp_df_cluster,df_removed \u001b[38;5;241m=\u001b[39m iter_cluster(temp_df,author2quality,threshold \u001b[38;5;241m=\u001b[39m threshold,\\\n\u001b[0;32m      6\u001b[0m     max_iter \u001b[38;5;241m=\u001b[39m \u001b[38;5;241m1\u001b[39m,if_remove_outlier \u001b[38;5;241m=\u001b[39m \u001b[38;5;28;01mTrue\u001b[39;00m)\n\u001b[0;32m      8\u001b[0m \u001b[38;5;66;03m# 在合并前先检查total_df_removed是不是空的\u001b[39;00m\n\u001b[0;32m      9\u001b[0m \u001b[38;5;28;01mif\u001b[39;00m \u001b[38;5;28mlen\u001b[39m(total_df_removed) \u001b[38;5;241m==\u001b[39m \u001b[38;5;241m0\u001b[39m:\n",
      "File \u001b[1;32mc:\\Users\\Yonghao\\Desktop\\高级人工智能\\期末大作业\\code\\utils\\aggregate.py:377\u001b[0m, in \u001b[0;36miter_cluster\u001b[1;34m(df_worker, author2quality, threshold, max_iter, if_remove_outlier, if_check_f1, df_gt)\u001b[0m\n\u001b[0;32m    375\u001b[0m \u001b[38;5;28;01mwhile\u001b[39;00m max_iter \u001b[38;5;241m>\u001b[39m \u001b[38;5;241m0\u001b[39m:\n\u001b[0;32m    376\u001b[0m     \u001b[38;5;28mprint\u001b[39m(\u001b[38;5;124m\"\u001b[39m\u001b[38;5;124mis here0?\u001b[39m\u001b[38;5;124m\"\u001b[39m)\n\u001b[1;32m--> 377\u001b[0m     df_with_cluster \u001b[38;5;241m=\u001b[39m once_cluster(df_with_cluster,author2quality,threshold)\n\u001b[0;32m    378\u001b[0m     \u001b[38;5;28;01mif\u001b[39;00m if_remove_outlier:\n\u001b[0;32m    379\u001b[0m         flags \u001b[38;5;241m=\u001b[39m []\n",
      "File \u001b[1;32mc:\\Users\\Yonghao\\Desktop\\高级人工智能\\期末大作业\\code\\utils\\aggregate.py:351\u001b[0m, in \u001b[0;36monce_cluster\u001b[1;34m(df, author2quality, threshold)\u001b[0m\n\u001b[0;32m    349\u001b[0m \u001b[38;5;28;01mtry\u001b[39;00m:\n\u001b[0;32m    350\u001b[0m     df_temp \u001b[38;5;241m=\u001b[39m df_with_cluster[df_with_cluster[\u001b[38;5;124m'\u001b[39m\u001b[38;5;124mimg_name\u001b[39m\u001b[38;5;124m'\u001b[39m] \u001b[38;5;241m==\u001b[39m img_name]\n\u001b[1;32m--> 351\u001b[0m     labels \u001b[38;5;241m=\u001b[39m cluster_for_single_image(df_temp, img_name, author2quality,threshold)\n\u001b[0;32m    352\u001b[0m     df_with_cluster\u001b[38;5;241m.\u001b[39mloc[df_with_cluster[\u001b[38;5;124m'\u001b[39m\u001b[38;5;124mimg_name\u001b[39m\u001b[38;5;124m'\u001b[39m] \u001b[38;5;241m==\u001b[39m img_name, \u001b[38;5;124m'\u001b[39m\u001b[38;5;124mcluster\u001b[39m\u001b[38;5;124m'\u001b[39m] \u001b[38;5;241m=\u001b[39m labels\n\u001b[0;32m    353\u001b[0m \u001b[38;5;28;01mexcept\u001b[39;00m \u001b[38;5;167;01mException\u001b[39;00m \u001b[38;5;28;01mas\u001b[39;00m e:\n",
      "File \u001b[1;32mc:\\Users\\Yonghao\\Desktop\\高级人工智能\\期末大作业\\code\\utils\\aggregate.py:321\u001b[0m, in \u001b[0;36mcluster_for_single_image\u001b[1;34m(df, img_name, author2quality, threshold)\u001b[0m\n\u001b[0;32m    318\u001b[0m \u001b[38;5;28;01mfor\u001b[39;00m i \u001b[38;5;129;01min\u001b[39;00m \u001b[38;5;28mrange\u001b[39m(N):\n\u001b[0;32m    319\u001b[0m     author \u001b[38;5;241m=\u001b[39m single_img_df\u001b[38;5;241m.\u001b[39miloc[i][\u001b[38;5;124m'\u001b[39m\u001b[38;5;124mauthor\u001b[39m\u001b[38;5;124m'\u001b[39m]\n\u001b[1;32m--> 321\u001b[0m     M[i, i] \u001b[38;5;241m=\u001b[39m np\u001b[38;5;241m.\u001b[39msum([similarity_matrix[i, j] \u001b[38;5;241m*\u001b[39m (\u001b[38;5;241m1\u001b[39m \u001b[38;5;241m+\u001b[39m np\u001b[38;5;241m.\u001b[39mexp(author2quality[single_img_df\u001b[38;5;241m.\u001b[39miloc[i][\u001b[38;5;124m'\u001b[39m\u001b[38;5;124mauthor\u001b[39m\u001b[38;5;124m'\u001b[39m]]\u001b[38;5;241m*\u001b[39m author2quality[single_img_df\u001b[38;5;241m.\u001b[39miloc[j][\u001b[38;5;124m'\u001b[39m\u001b[38;5;124mauthor\u001b[39m\u001b[38;5;124m'\u001b[39m]]\\\n\u001b[0;32m    322\u001b[0m                                                         \u001b[38;5;241m*\u001b[39mcalculate_giou(single_img_df[\u001b[38;5;124m'\u001b[39m\u001b[38;5;124mworker_bbox\u001b[39m\u001b[38;5;124m'\u001b[39m][i], single_img_df[\u001b[38;5;124m'\u001b[39m\u001b[38;5;124msam_bbox\u001b[39m\u001b[38;5;124m'\u001b[39m][i])\\\n\u001b[0;32m    323\u001b[0m                                                             \u001b[38;5;241m*\u001b[39mcalculate_giou(single_img_df[\u001b[38;5;124m'\u001b[39m\u001b[38;5;124mworker_bbox\u001b[39m\u001b[38;5;124m'\u001b[39m][j], single_img_df[\u001b[38;5;124m'\u001b[39m\u001b[38;5;124msam_bbox\u001b[39m\u001b[38;5;124m'\u001b[39m][j]))) \u001b[38;5;28;01mfor\u001b[39;00m j \u001b[38;5;129;01min\u001b[39;00m \u001b[38;5;28mrange\u001b[39m(N)])\u001b[38;5;241m/\u001b[39mN\n\u001b[0;32m    325\u001b[0m L \u001b[38;5;241m=\u001b[39m D \u001b[38;5;241m-\u001b[39m similarity_matrix\n\u001b[0;32m    327\u001b[0m M_inv_sqrt \u001b[38;5;241m=\u001b[39m np\u001b[38;5;241m.\u001b[39mlinalg\u001b[38;5;241m.\u001b[39minv(np\u001b[38;5;241m.\u001b[39msqrt(M))\n",
      "File \u001b[1;32mc:\\Users\\Yonghao\\Desktop\\高级人工智能\\期末大作业\\code\\utils\\aggregate.py:321\u001b[0m, in \u001b[0;36m<listcomp>\u001b[1;34m(.0)\u001b[0m\n\u001b[0;32m    318\u001b[0m \u001b[38;5;28;01mfor\u001b[39;00m i \u001b[38;5;129;01min\u001b[39;00m \u001b[38;5;28mrange\u001b[39m(N):\n\u001b[0;32m    319\u001b[0m     author \u001b[38;5;241m=\u001b[39m single_img_df\u001b[38;5;241m.\u001b[39miloc[i][\u001b[38;5;124m'\u001b[39m\u001b[38;5;124mauthor\u001b[39m\u001b[38;5;124m'\u001b[39m]\n\u001b[1;32m--> 321\u001b[0m     M[i, i] \u001b[38;5;241m=\u001b[39m np\u001b[38;5;241m.\u001b[39msum([similarity_matrix[i, j] \u001b[38;5;241m*\u001b[39m (\u001b[38;5;241m1\u001b[39m \u001b[38;5;241m+\u001b[39m np\u001b[38;5;241m.\u001b[39mexp(author2quality[single_img_df\u001b[38;5;241m.\u001b[39miloc[i][\u001b[38;5;124m'\u001b[39m\u001b[38;5;124mauthor\u001b[39m\u001b[38;5;124m'\u001b[39m]]\u001b[38;5;241m*\u001b[39m author2quality[single_img_df\u001b[38;5;241m.\u001b[39miloc[j][\u001b[38;5;124m'\u001b[39m\u001b[38;5;124mauthor\u001b[39m\u001b[38;5;124m'\u001b[39m]]\\\n\u001b[0;32m    322\u001b[0m                                                         \u001b[38;5;241m*\u001b[39mcalculate_giou(single_img_df[\u001b[38;5;124m'\u001b[39m\u001b[38;5;124mworker_bbox\u001b[39m\u001b[38;5;124m'\u001b[39m][i], single_img_df[\u001b[38;5;124m'\u001b[39m\u001b[38;5;124msam_bbox\u001b[39m\u001b[38;5;124m'\u001b[39m][i])\\\n\u001b[0;32m    323\u001b[0m                                                             \u001b[38;5;241m*\u001b[39mcalculate_giou(single_img_df[\u001b[38;5;124m'\u001b[39m\u001b[38;5;124mworker_bbox\u001b[39m\u001b[38;5;124m'\u001b[39m][j], single_img_df[\u001b[38;5;124m'\u001b[39m\u001b[38;5;124msam_bbox\u001b[39m\u001b[38;5;124m'\u001b[39m][j]))) \u001b[38;5;28;01mfor\u001b[39;00m j \u001b[38;5;129;01min\u001b[39;00m \u001b[38;5;28mrange\u001b[39m(N)])\u001b[38;5;241m/\u001b[39mN\n\u001b[0;32m    325\u001b[0m L \u001b[38;5;241m=\u001b[39m D \u001b[38;5;241m-\u001b[39m similarity_matrix\n\u001b[0;32m    327\u001b[0m M_inv_sqrt \u001b[38;5;241m=\u001b[39m np\u001b[38;5;241m.\u001b[39mlinalg\u001b[38;5;241m.\u001b[39minv(np\u001b[38;5;241m.\u001b[39msqrt(M))\n",
      "File \u001b[1;32md:\\Anaconda3\\envs\\crowd\\Lib\\site-packages\\pandas\\core\\indexing.py:1153\u001b[0m, in \u001b[0;36m_LocationIndexer.__getitem__\u001b[1;34m(self, key)\u001b[0m\n\u001b[0;32m   1150\u001b[0m axis \u001b[38;5;241m=\u001b[39m \u001b[38;5;28mself\u001b[39m\u001b[38;5;241m.\u001b[39maxis \u001b[38;5;129;01mor\u001b[39;00m \u001b[38;5;241m0\u001b[39m\n\u001b[0;32m   1152\u001b[0m maybe_callable \u001b[38;5;241m=\u001b[39m com\u001b[38;5;241m.\u001b[39mapply_if_callable(key, \u001b[38;5;28mself\u001b[39m\u001b[38;5;241m.\u001b[39mobj)\n\u001b[1;32m-> 1153\u001b[0m \u001b[38;5;28;01mreturn\u001b[39;00m \u001b[38;5;28mself\u001b[39m\u001b[38;5;241m.\u001b[39m_getitem_axis(maybe_callable, axis\u001b[38;5;241m=\u001b[39maxis)\n",
      "File \u001b[1;32md:\\Anaconda3\\envs\\crowd\\Lib\\site-packages\\pandas\\core\\indexing.py:1716\u001b[0m, in \u001b[0;36m_iLocIndexer._getitem_axis\u001b[1;34m(self, key, axis)\u001b[0m\n\u001b[0;32m   1713\u001b[0m \u001b[38;5;66;03m# validate the location\u001b[39;00m\n\u001b[0;32m   1714\u001b[0m \u001b[38;5;28mself\u001b[39m\u001b[38;5;241m.\u001b[39m_validate_integer(key, axis)\n\u001b[1;32m-> 1716\u001b[0m \u001b[38;5;28;01mreturn\u001b[39;00m \u001b[38;5;28mself\u001b[39m\u001b[38;5;241m.\u001b[39mobj\u001b[38;5;241m.\u001b[39m_ixs(key, axis\u001b[38;5;241m=\u001b[39maxis)\n",
      "File \u001b[1;32md:\\Anaconda3\\envs\\crowd\\Lib\\site-packages\\pandas\\core\\frame.py:3792\u001b[0m, in \u001b[0;36mDataFrame._ixs\u001b[1;34m(self, i, axis)\u001b[0m\n\u001b[0;32m   3790\u001b[0m \u001b[38;5;66;03m# irow\u001b[39;00m\n\u001b[0;32m   3791\u001b[0m \u001b[38;5;28;01mif\u001b[39;00m axis \u001b[38;5;241m==\u001b[39m \u001b[38;5;241m0\u001b[39m:\n\u001b[1;32m-> 3792\u001b[0m     new_mgr \u001b[38;5;241m=\u001b[39m \u001b[38;5;28mself\u001b[39m\u001b[38;5;241m.\u001b[39m_mgr\u001b[38;5;241m.\u001b[39mfast_xs(i)\n\u001b[0;32m   3794\u001b[0m     \u001b[38;5;66;03m# if we are a copy, mark as such\u001b[39;00m\n\u001b[0;32m   3795\u001b[0m     copy \u001b[38;5;241m=\u001b[39m \u001b[38;5;28misinstance\u001b[39m(new_mgr\u001b[38;5;241m.\u001b[39marray, np\u001b[38;5;241m.\u001b[39mndarray) \u001b[38;5;129;01mand\u001b[39;00m new_mgr\u001b[38;5;241m.\u001b[39marray\u001b[38;5;241m.\u001b[39mbase \u001b[38;5;129;01mis\u001b[39;00m \u001b[38;5;28;01mNone\u001b[39;00m\n",
      "File \u001b[1;32md:\\Anaconda3\\envs\\crowd\\Lib\\site-packages\\pandas\\core\\internals\\managers.py:969\u001b[0m, in \u001b[0;36mBlockManager.fast_xs\u001b[1;34m(self, loc)\u001b[0m\n\u001b[0;32m    965\u001b[0m     \u001b[38;5;28;01mreturn\u001b[39;00m SingleBlockManager(block, \u001b[38;5;28mself\u001b[39m\u001b[38;5;241m.\u001b[39maxes[\u001b[38;5;241m0\u001b[39m])\n\u001b[0;32m    967\u001b[0m dtype \u001b[38;5;241m=\u001b[39m interleaved_dtype([blk\u001b[38;5;241m.\u001b[39mdtype \u001b[38;5;28;01mfor\u001b[39;00m blk \u001b[38;5;129;01min\u001b[39;00m \u001b[38;5;28mself\u001b[39m\u001b[38;5;241m.\u001b[39mblocks])\n\u001b[1;32m--> 969\u001b[0m n \u001b[38;5;241m=\u001b[39m \u001b[38;5;28mlen\u001b[39m(\u001b[38;5;28mself\u001b[39m)\n\u001b[0;32m    971\u001b[0m \u001b[38;5;28;01mif\u001b[39;00m \u001b[38;5;28misinstance\u001b[39m(dtype, ExtensionDtype):\n\u001b[0;32m    972\u001b[0m     result \u001b[38;5;241m=\u001b[39m np\u001b[38;5;241m.\u001b[39mempty(n, dtype\u001b[38;5;241m=\u001b[39m\u001b[38;5;28mobject\u001b[39m)\n",
      "File \u001b[1;32md:\\Anaconda3\\envs\\crowd\\Lib\\site-packages\\pandas\\core\\internals\\base.py:61\u001b[0m, in \u001b[0;36mDataManager.__len__\u001b[1;34m(self)\u001b[0m\n\u001b[0;32m     57\u001b[0m \u001b[38;5;129m@property\u001b[39m\n\u001b[0;32m     58\u001b[0m \u001b[38;5;28;01mdef\u001b[39;00m \u001b[38;5;21mitems\u001b[39m(\u001b[38;5;28mself\u001b[39m) \u001b[38;5;241m-\u001b[39m\u001b[38;5;241m>\u001b[39m Index:\n\u001b[0;32m     59\u001b[0m     \u001b[38;5;28;01mraise\u001b[39;00m AbstractMethodError(\u001b[38;5;28mself\u001b[39m)\n\u001b[1;32m---> 61\u001b[0m \u001b[38;5;129m@final\u001b[39m\n\u001b[0;32m     62\u001b[0m \u001b[38;5;28;01mdef\u001b[39;00m \u001b[38;5;21m__len__\u001b[39m(\u001b[38;5;28mself\u001b[39m) \u001b[38;5;241m-\u001b[39m\u001b[38;5;241m>\u001b[39m \u001b[38;5;28mint\u001b[39m:\n\u001b[0;32m     63\u001b[0m     \u001b[38;5;28;01mreturn\u001b[39;00m \u001b[38;5;28mlen\u001b[39m(\u001b[38;5;28mself\u001b[39m\u001b[38;5;241m.\u001b[39mitems)\n\u001b[0;32m     65\u001b[0m \u001b[38;5;129m@property\u001b[39m\n\u001b[0;32m     66\u001b[0m \u001b[38;5;28;01mdef\u001b[39;00m \u001b[38;5;21mndim\u001b[39m(\u001b[38;5;28mself\u001b[39m) \u001b[38;5;241m-\u001b[39m\u001b[38;5;241m>\u001b[39m \u001b[38;5;28mint\u001b[39m:\n",
      "\u001b[1;31mKeyboardInterrupt\u001b[0m: "
     ]
    }
   ],
   "source": [
    "\n",
    "img2_cluster = {}\n",
    "for img_name in tqdm(df_worker['img_name'].unique()[:]):\n",
    "    temp_df = df_worker[df_worker['img_name'] == img_name]\n",
    "    temp_df.reset_index(drop=True, inplace=True)\n",
    "    temp_df_cluster,df_removed = iter_cluster(temp_df,author2quality,threshold = threshold,\\\n",
    "        max_iter = 1,if_remove_outlier = True)\n",
    "    \n",
    "    if len(total_df_removed) == 0:\n",
    "        total_df_removed = df_removed\n",
    "    else:\n",
    "        total_df_removed = pd.concat([total_df_removed, df_removed], ignore_index=False)\n",
    "\n",
    "    try:\n",
    "        temp_df_cluster = fill_weight_df(temp_df_cluster)\n",
    "    except Exception as e:\n",
    "        print(e)\n",
    "        print(temp_df_cluster)\n",
    "        break\n",
    "\n",
    "    author2giou = get_author2giou(temp_df_cluster)\n",
    "    temp_df_aggregated = aggregate_for_all_images(temp_df_cluster, author2giou, total_df_removed, method = 'mean', weight = 'all')\n",
    "    temp_df_aggregated['giou'] = temp_df_aggregated.apply(lambda x: calculate_giou(x['worker_bbox'], x['sam_bbox']), axis=1)\n",
    "\n",
    "    fill_weight_df(temp_df_aggregated)\n",
    "\n",
    "    local_weight = np.mean(temp_df_aggregated['giou'])\n",
    "    sam_weight = np.mean(temp_df_aggregated['sam_conf'])\n",
    "    weight = (local_weight + sam_weight) / 2\n",
    "\n",
    "    temp_df_aggregated['final_box'] = temp_df_aggregated.apply(lambda x: [np.average(k, weights=[weight, 1-weight]) for k in zip(x['sam_bbox'], x['worker_bbox'])], axis=1)\n",
    "    \n",
    "    img2df[img_name] = temp_df_aggregated\n",
    "    img2_cluster[img_name] = temp_df_cluster\n",
    "\n",
    "\n",
    "print(\"threshold\",threshold)\n",
    "print(\"len(total_df_removed)\",len(total_df_removed))\n",
    "\n",
    "braylan_f1_scores, one2one_f1_scores, acc = temp_eva(img2df,df_gt)\n",
    "print(\"braylan_f1_scores\",np.mean(braylan_f1_scores))\n",
    "print(\"one2one_f1_scores\",np.mean(one2one_f1_scores))\n",
    "print(\"acc\",acc)\n",
    "\n",
    "\n",
    "\n",
    "\n",
    "\n"
   ]
  }
 ],
 "metadata": {
  "kernelspec": {
   "display_name": "crowd",
   "language": "python",
   "name": "python3"
  },
  "language_info": {
   "codemirror_mode": {
    "name": "ipython",
    "version": 3
   },
   "file_extension": ".py",
   "mimetype": "text/x-python",
   "name": "python",
   "nbconvert_exporter": "python",
   "pygments_lexer": "ipython3",
   "version": "3.11.5"
  }
 },
 "nbformat": 4,
 "nbformat_minor": 2
}
